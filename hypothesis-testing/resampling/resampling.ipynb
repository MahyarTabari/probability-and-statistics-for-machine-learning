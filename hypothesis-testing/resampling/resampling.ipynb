{
 "cells": [
  {
   "cell_type": "markdown",
   "id": "c7209846-535e-4a51-90e7-c8ca4e05dd2b",
   "metadata": {},
   "source": [
    "## Q: Why to use resmpling methods for hypothesis testing instead of z-test, t-test and ANOVA?"
   ]
  },
  {
   "cell_type": "markdown",
   "id": "0900c326-5d26-4d37-8154-06e24dd594eb",
   "metadata": {},
   "source": [
    "While traditional methods such as z-test, t-test, and ANOVA are widely used in hypothesis testing, there are situations where they may not be appropriate or have limitations. Resampling methods can be used in these situations to help overcome these limitations. Some reasons why resampling methods may be preferred over traditional methods include:\n",
    "\n",
    "1. Sample size: Traditional methods may not work well with small sample sizes, since their assumptions do not hold when n is small. Resampling methods work well with small sample sizes, since they use the original sample data to create many simulated samples.\n",
    "\n",
    "2. Non-normality: Traditional methods assume that the data is normally distributed. However, this assumption may not hold for many real-world datasets. Resampling methods do not rely on this assumption and can work with non-normal data.\n",
    "\n",
    "3. Non-parametric tests: Traditional methods assume that the data follows a certain parametric distribution, such as the normal distribution. However, in some cases, there may not be a suitable parametric distribution for the data. Resampling methods can help to overcome this issue by using simple and distribution-free procedures.\n",
    "\n",
    "4. Robustness: Traditional methods may not be robust against outliers or influential observations. Resampling methods can help to mitigate the impact of outliers and influential observations, by using many simulated samples.\n",
    "\n",
    "5. Validity of statistical inference: Resampling methods can provide more accurate and unbiased estimates of the parameters of interest and can help to evaluate the robustness and validity of statistical inference based on the original dataset.\n",
    "\n",
    "Overall, resampling methods can be a powerful tool in hypothesis testing, especially when traditional statistical methods have limitations or do not adequately capture the complexity of the data.\n"
   ]
  },
  {
   "cell_type": "markdown",
   "id": "fbfee5d5-03d7-4a63-9a80-4d377cffa520",
   "metadata": {},
   "source": [
    "## Q: Why not to use t-test instead of resampling methods, when sample size is small?"
   ]
  },
  {
   "cell_type": "markdown",
   "id": "0dca7c8f-4076-4e7d-8735-8a2ed482453b",
   "metadata": {},
   "source": [
    "When the sample size is small (typically less than 30), we usually use the t-test instead of a z-test, since the t-test takes into account the extra uncertainty introduced by the small sample size. The t-distribution has heavier tails than the normal distribution, which reflects the increased uncertainty and variability that comes with having a small sample size. As the sample size gets larger, the t-distribution approaches the normal distribution, and the t-test converges to the z-test. \n",
    "\n",
    "However, even for small sample sizes, resampling methods such as the bootstrap can still be useful in some situations. For example, the bootstrap can be used to estimate the standard error of a sample statistic, which can be used to calculate confidence intervals and conduct hypothesis tests. The bootstrap can also be used to estimate the distribution of a test statistic under the null hypothesis, which can be used to calculate p-values and conduct permutation tests. Resampling methods can provide more accurate and reliable estimates of statistical parameters and hypothesis testing results, especially when the assumptions of traditional statistical methods are not met or the sample size is small.\n",
    "\n",
    "One of the assumptions for the t-test is that the data follow a normal distribution. However, for small sample sizes, the assumption of **normality** may be violated, which could lead to incorrect results. Additionally, the t-test assumes that the **variances of the populations are equal**, but this assumption may also be violated, especially with small sample sizes.\n",
    "\n",
    "Resampling methods, such as bootstrapping, do not rely on assumptions about the population distribution or the equality of variances, and can be more robust when sample sizes are small. Resampling methods can generate many sample subsets from the original data, which can provide more accurate estimates of population parameters (such as means and variances) and probability distributions, resulting in more reliable hypothesis tests.\n"
   ]
  },
  {
   "cell_type": "markdown",
   "id": "3480940a-2032-4d5d-bc70-86da871a4993",
   "metadata": {},
   "source": [
    "## Q: Can I test a hypothesis about something else other than mean and proportion(e.g. median) with traditional methods like t-test?"
   ]
  },
  {
   "cell_type": "markdown",
   "id": "9c9bfe26-db21-45ab-b400-2f276f284d54",
   "metadata": {},
   "source": [
    "Testing a hypothesis about the median with traditional methods of hypothesis testing, such as t-tests or ANOVA, can be challenging because these tests often rely on the assumption of normality, which may not hold for median-based statistics. In addition, the median is a non-parametric statistic and does not have a fixed sampling distribution that can be used to obtain p-values using traditional methods.\n",
    "\n",
    "resampling methods like bootstrapping can be used to test hypotheses about the median. Bootstrapping is a non-parametric resampling technique that can be used to estimate the sampling distribution of a statistic (in this case, the median) by repeatedly sampling from the original data with replacement."
   ]
  }
 ],
 "metadata": {
  "kernelspec": {
   "display_name": "Python 3 (ipykernel)",
   "language": "python",
   "name": "python3"
  },
  "language_info": {
   "codemirror_mode": {
    "name": "ipython",
    "version": 3
   },
   "file_extension": ".py",
   "mimetype": "text/x-python",
   "name": "python",
   "nbconvert_exporter": "python",
   "pygments_lexer": "ipython3",
   "version": "3.11.2"
  }
 },
 "nbformat": 4,
 "nbformat_minor": 5
}
