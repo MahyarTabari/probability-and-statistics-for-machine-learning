{
 "cells": [
  {
   "cell_type": "code",
   "execution_count": null,
   "id": "996ba0fb-805f-41b1-b719-292ab500ef8f",
   "metadata": {},
   "outputs": [],
   "source": []
  },
  {
   "cell_type": "code",
   "execution_count": null,
   "id": "61fd112a-c174-490f-af49-fb3b83e4800d",
   "metadata": {},
   "outputs": [],
   "source": []
  },
  {
   "cell_type": "code",
   "execution_count": null,
   "id": "a5a5276a-6c22-4e5f-9eeb-1898938e721d",
   "metadata": {},
   "outputs": [],
   "source": []
  },
  {
   "cell_type": "code",
   "execution_count": null,
   "id": "46035776-c09e-45f7-b9a0-1ec09ae03beb",
   "metadata": {},
   "outputs": [],
   "source": []
  },
  {
   "cell_type": "code",
   "execution_count": null,
   "id": "ddd9ec69-38ab-4ba4-b44d-472d8efb58bd",
   "metadata": {},
   "outputs": [],
   "source": []
  },
  {
   "cell_type": "code",
   "execution_count": null,
   "id": "ee72f7f1-e6b3-4163-8f7d-0961d83559ec",
   "metadata": {},
   "outputs": [],
   "source": []
  },
  {
   "cell_type": "markdown",
   "id": "946ece86-37fb-4b7a-bd49-24bb59d0e382",
   "metadata": {},
   "source": [
    "## The Null and Alternative Hypotheses"
   ]
  },
  {
   "cell_type": "markdown",
   "id": "f248abbc-6cc4-4380-aa45-c00974d830fc",
   "metadata": {},
   "source": [
    "The null hypothesis for a one-way ANOVA test is that the population means of all groups are equal. Symbolically, this can be represented as:\n",
    "\n",
    "$$H_0: \\mu_1 = \\mu_2 = \\mu_3 = \\ldots = \\mu_k$$\n",
    "\n",
    "where $\\mu_i$ represents the population mean of the $i^{th}$ group.\n",
    "\n",
    "The alternative hypothesis for a one-way ANOVA can take one of several different forms, depending on the research question of interest. Some possible alternatives are:\n",
    "\n",
    "- At least one population mean is different from the others:\n",
    "$$H_A: \\text{not all } \\mu_i \\text{ are equal}$$\n",
    "- The means of some particular pairs of groups are different, but we don't know which ones:\n",
    "$$H_A: \\text{there exists } i \\neq j \\text{ such that } \\mu_i \\neq \\mu_j$$\n",
    "- The population means follow a specific pattern or trend:\n",
    "$$H_A: \\mu_1 < \\mu_2 < \\mu_3 < \\ldots < \\mu_k$$\n",
    "\n",
    "The appropriate alternative hypothesis will depend on the research question and the specific context of the study."
   ]
  },
  {
   "cell_type": "markdown",
   "id": "bac9fc6e-6144-4bbd-9bfe-011a1779a4e9",
   "metadata": {},
   "source": [
    "## Assumptions"
   ]
  },
  {
   "cell_type": "markdown",
   "id": "71f9c651-2bb6-42a5-989a-219ca820c4d7",
   "metadata": {},
   "source": [
    "One-way ANOVA makes several assumptions about the data and the sampling process, including:\n",
    "\n",
    "1. Normality: The dependent variable within each group should be normally distributed.\n",
    "2. Homogeneity of variance: The variance of the dependent variable within each group should be approximately equal across all groups.\n",
    "3. Independence: The observations within each group must be independent of each other.\n",
    "4. Random sampling: The samples should be obtained through random sampling.\n",
    "5. Interval or ratio scale: The dependent variable should be measured on an interval or ratio scale.\n",
    "\n",
    "Violations of these assumptions can lead to incorrect conclusions or loss of power in the statistical test. For example, if the assumption of normality is violated, a non-parametric test such as the Kruskal-Wallis test may be more appropriate. If the assumption of homogeneity of variance is violated, a Welch's ANOVA or a robust ANOVA may be used instead.\n",
    "\n",
    "It is important to verify the assumptions of one-way ANOVA before conducting the analysis. Techniques such as visual inspection of histograms, normal probability plots, and box plots can help to assess normality and homogeneity of variance. Residual plots can also be used to check for violations of the independence assumption.\n"
   ]
  },
  {
   "cell_type": "markdown",
   "id": "cd5324f2-1236-4ee8-880a-a50f61cf5004",
   "metadata": {},
   "source": [
    "## Using multiple t-tests instead of a one-way"
   ]
  },
  {
   "cell_type": "markdown",
   "id": "9e3477be-590e-4e12-8bc6-6e146c024284",
   "metadata": {},
   "source": [
    "Using multiple t-tests instead of a one-way ANOVA to compare three or more independent groups is not recommended because it can lead to an increased risk of type I errors (false positives).\n",
    "\n",
    "Suppose you want to compare the means of three independent groups. If you conduct three independent t-tests (Group 1 vs. Group 2, Group 1 vs. Group 3, Group 2 vs. Group 3), you are essentially testing the null hypothesis three times, which increases the overall probability of making a type I error (rejecting the null hypothesis when it is actually true). For example, if you use an alpha level of .05 for each t-test, the probability of making at least one type I error across all three tests is $1 - (1-.05)^3 = 0.143$, or a $14.3$% chance.\n",
    "\n",
    "In contrast, a one-way ANOVA simultaneously tests whether there are any significant differences between any of the groups, while controlling for the overall type I error rate at the specified alpha level. The F-test in the one-way ANOVA compares the ratio of the variance between groups to the variance within groups, which increases the power (sensitivity) of the test to detect real differences between the groups. By using a one-way ANOVA instead of multiple t-tests, you reduce the risk of mistakenly concluding that there are significant differences between groups when there are not."
   ]
  },
  {
   "cell_type": "code",
   "execution_count": null,
   "id": "16988038-deab-45bd-8119-c6e1f8b5a6e9",
   "metadata": {},
   "outputs": [],
   "source": []
  },
  {
   "cell_type": "code",
   "execution_count": null,
   "id": "ed5b2954-2d7c-4c59-9c5f-10e8ac68b70d",
   "metadata": {},
   "outputs": [],
   "source": []
  },
  {
   "cell_type": "code",
   "execution_count": null,
   "id": "f8943bf7-aa68-482e-9c4f-e39a760f0209",
   "metadata": {},
   "outputs": [],
   "source": []
  },
  {
   "cell_type": "markdown",
   "id": "31cdd969-3fd8-4d4e-b22f-a5857e8ca68a",
   "metadata": {},
   "source": []
  },
  {
   "cell_type": "markdown",
   "id": "7c1ed41d-8a1a-44af-94a7-9ce03dc9c84f",
   "metadata": {},
   "source": [
    "To know how F distribution is calculated, first we have to know what the pooled variance is."
   ]
  },
  {
   "cell_type": "markdown",
   "id": "98b0d0b3-b82c-4276-be13-de1d243f82a2",
   "metadata": {},
   "source": [
    "## Pooled Variance"
   ]
  },
  {
   "cell_type": "markdown",
   "id": "2a362eea-5890-45f2-9c97-031dbee54fbd",
   "metadata": {},
   "source": [
    "The pooled variance is a combined estimate of the variance within each group in a one-way ANOVA. It is calculated using the standard formula (simply it is the weighted average of the variances):\n",
    "\n",
    "$$s_p^2 = \\frac{\\sum_{i=1}^k (n_i - 1)s_i^2}{\\sum_{i=1}^k (n_i - 1)}$$\n",
    "\n",
    "where $s_i^2$ is the sample variance of the $i^{th}$ group, $n_i$ is the sample size of the $i^{th}$ group, and $k$ is the total number of groups.\n",
    "\n",
    "The pooled variance is an important value in the calculation of the F-statistic in a one-way ANOVA, which is used to test for significant differences between the means of the groups. It is used to estimate the common population variance when assuming that the population variances are equal among all groups.\n",
    "\n",
    "Intuitively, the pooled variance gives an overall estimate of how much variation there is in the data across all groups together. It takes into account both the sample sizes and sample variances of each group, and provides a single number that summarizes the variability of the data across the entire population.\n"
   ]
  }
 ],
 "metadata": {
  "kernelspec": {
   "display_name": "Python 3 (ipykernel)",
   "language": "python",
   "name": "python3"
  },
  "language_info": {
   "codemirror_mode": {
    "name": "ipython",
    "version": 3
   },
   "file_extension": ".py",
   "mimetype": "text/x-python",
   "name": "python",
   "nbconvert_exporter": "python",
   "pygments_lexer": "ipython3",
   "version": "3.11.2"
  }
 },
 "nbformat": 4,
 "nbformat_minor": 5
}
