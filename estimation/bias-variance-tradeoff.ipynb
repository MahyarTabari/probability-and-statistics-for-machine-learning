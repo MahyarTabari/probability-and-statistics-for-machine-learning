{
 "cells": [
  {
   "cell_type": "code",
   "execution_count": 2,
   "id": "7b9bb397-d41b-43c5-83a0-8be0573bc194",
   "metadata": {},
   "outputs": [],
   "source": [
    "import numpy as np\n",
    "import matplotlib.pyplot as plt"
   ]
  },
  {
   "cell_type": "code",
   "execution_count": 74,
   "id": "b4b7cedd-883f-4f53-90e6-1f1dfb6cdeb8",
   "metadata": {},
   "outputs": [],
   "source": [
    "def biased_variance_estimator(sample):\n",
    "    mean = np.mean(sample)\n",
    "    sum_of_squared_error = np.sum((sample - mean)**2)\n",
    "    return sum_of_squared_error / sample.shape[0]\n",
    "\n",
    "def unbiased_variance_estimator(sample):\n",
    "    mean = np.mean(sample)\n",
    "    sum_of_squared_error = np.sum((sample - mean)**2)\n",
    "    return sum_of_squared_error / (sample.shape[0] - 1)"
   ]
  },
  {
   "cell_type": "code",
   "execution_count": 83,
   "id": "55f51f32-9b08-4e5f-b5a4-45953e5cac20",
   "metadata": {},
   "outputs": [
    {
     "name": "stdout",
     "output_type": "stream",
     "text": [
      "biased     = 64.00554681920282\n",
      "unbiased   = 64.0055474592583\n",
      "true value = 64\n"
     ]
    }
   ],
   "source": [
    "    sample = np.random.normal(loc=175, scale=8, size=1000)\n",
    "print(f'biased     = {biased_variance_estimator(sample)}')\n",
    "print(f'unbiased   = {unbiased_variance_estimator(sample)}')\n",
    "print('true value = 64')"
   ]
  },
  {
   "cell_type": "code",
   "execution_count": 76,
   "id": "800717a9-e91e-479a-9e69-966b2b450b21",
   "metadata": {},
   "outputs": [
    {
     "name": "stdout",
     "output_type": "stream",
     "text": [
      "biased = 70.16555516065466\n",
      "unbiased = 70.23579095160628\n"
     ]
    }
   ],
   "source": [
    "print(f'biased = {biased_variance_estimator(sample)}')\n",
    "print(f'unbiased = {unbiased_variance_estimator(sample)}')\n"
   ]
  },
  {
   "cell_type": "code",
   "execution_count": 87,
   "id": "a02f650c-182d-4e00-a732-2e3f7c3dfc11",
   "metadata": {},
   "outputs": [],
   "source": [
    "dataset = 0.4 * (np.random.normal(loc=1, scale=0.5, size=10000)) + 0.6 * (np.random.normal(loc=7, scale=0.2, size=10000))"
   ]
  },
  {
   "cell_type": "code",
   "execution_count": 97,
   "id": "f8bb2462-e35b-49a9-8d30-de124c6b3f73",
   "metadata": {},
   "outputs": [
    {
     "data": {
      "text/plain": [
       "0.7514904062853943"
      ]
     },
     "execution_count": 97,
     "metadata": {},
     "output_type": "execute_result"
    }
   ],
   "source": []
  },
  {
   "cell_type": "code",
   "execution_count": 106,
   "id": "3584ca05-33ee-4cd0-b99f-867d13bd15de",
   "metadata": {},
   "outputs": [],
   "source": [
    "dataset = []\n",
    "for i in range(1000000):\n",
    "    p = np.random.rand()\n",
    "    if p < 0.4:\n",
    "        dataset.append((np.random.normal(loc=1, scale=0.5)))\n",
    "    else:\n",
    "        dataset.append((np.random.normal(loc=4, scale=0.5)))"
   ]
  },
  {
   "cell_type": "code",
   "execution_count": 107,
   "id": "326f98d4-a23e-4d24-9003-249572cfa072",
   "metadata": {},
   "outputs": [
    {
     "data": {
      "text/plain": [
       "(array([1.29000e+02, 1.32150e+04, 1.42391e+05, 2.03798e+05, 4.02560e+04,\n",
       "        3.26410e+04, 2.54107e+05, 2.72944e+05, 3.98050e+04, 7.14000e+02]),\n",
       " array([-1.47364443, -0.6958579 ,  0.08192862,  0.85971515,  1.63750168,\n",
       "         2.4152882 ,  3.19307473,  3.97086125,  4.74864778,  5.5264343 ,\n",
       "         6.30422083]),\n",
       " <BarContainer object of 10 artists>)"
      ]
     },
     "execution_count": 107,
     "metadata": {},
     "output_type": "execute_result"
    },
    {
     "data": {
      "image/png": "[encoded data removed]",
      "text/plain": [
       "<Figure size 640x480 with 1 Axes>"
      ]
     },
     "metadata": {},
     "output_type": "display_data"
    }
   ],
   "source": [
    "plt.hist(dataset)"
   ]
  }
 ],
 "metadata": {
  "kernelspec": {
   "display_name": "Python 3 (ipykernel)",
   "language": "python",
   "name": "python3"
  },
  "language_info": {
   "codemirror_mode": {
    "name": "ipython",
    "version": 3
   },
   "file_extension": ".py",
   "mimetype": "text/x-python",
   "name": "python",
   "nbconvert_exporter": "python",
   "pygments_lexer": "ipython3",
   "version": "3.11.2"
  }
 },
 "nbformat": 4,
 "nbformat_minor": 5
}
