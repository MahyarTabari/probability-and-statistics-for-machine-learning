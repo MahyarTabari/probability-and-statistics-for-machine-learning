{
 "cells": [
  {
   "cell_type": "markdown",
   "id": "699eefce-e8eb-42b0-9391-72d89a5ebc2e",
   "metadata": {},
   "source": [
    "## Outiler"
   ]
  },
  {
   "cell_type": "markdown",
   "id": "64c7048c-be11-43e6-bda1-8b028aab6ef8",
   "metadata": {},
   "source": [
    "An outlier is a value that deviates significantly from the other values in a dataset. It is an observation that is substantially different from other observations in the same dataset. Outliers can have a significant impact on statistical analysis and can distort the results of statistical calculations such as the mean, variance, and standard deviation. In some cases, outliers may be due to measurement errors or faulty data collection methods, while in other cases, they might reflect true but unexpected phenomena that should be explored further. It is essential to identify and remove outliers to obtain accurate results in statistical analysis.\n"
   ]
  },
  {
   "cell_type": "markdown",
   "id": "1cfc3b83-f3c8-4515-bfea-3d064e1728c3",
   "metadata": {},
   "source": [
    "Here are a few examples of causes of outliers:\n",
    "\n",
    "1. Measurement errors: Outliers could be caused by errors in the measurement or recording of data. For example, if a person's height was measured incorrectly, it could lead to an outlier in a dataset of heights.\n",
    "\n",
    "2. Natural variation: Sometimes, outliers can occur just due to natural variation in the data. For instance, if a company has sales data for many years, one may have an unusually high or low sales year that falls outside the normal range.\n",
    "\n",
    "3. Sampling bias: Outliers could be caused due to a bias in the sample selection, where the sample may not be representative of the population as a whole. For example, if only extremely wealthy people are included in a survey of household income, it could skew the results and lead to outliers.\n",
    "\n",
    "4. Extreme events: Outliers can occur in data related to natural phenomena such as weather, economic events or health crises. For instance, during a currency crisis, there could be a sudden increase in the price of goods leading to an unusual spike in the inflation rate.\n"
   ]
  },
  {
   "cell_type": "markdown",
   "id": "ddfe7afe-02d9-400b-989e-ae04f11504f1",
   "metadata": {},
   "source": [
    "### Be Careful While Cleaning Data!"
   ]
  },
  {
   "cell_type": "markdown",
   "id": "86aef37d-2a32-487c-8b1c-b2abcfa2622b",
   "metadata": {},
   "source": [
    "outlier may be a result of a rare event or measurement error. However, not all outliers are incorrect or dirty data. Therefore, before cleaning the data, one needs to understand the most likely cause of an outlier. For instance, an outlier may be a result of a unique event or observation. In this case, removing the outlier may result in a loss of valuable information. On the other hand, an outlier may be due to data entry errors or faulty measurement equipment. In such cases, removing the outlier is an essential step in data cleansing. Therefore, it is necessary to carefully evaluate the most likely cause of an outlier before deciding on the appropriate course of action."
   ]
  }
 ],
 "metadata": {
  "kernelspec": {
   "display_name": "Python 3 (ipykernel)",
   "language": "python",
   "name": "python3"
  },
  "language_info": {
   "codemirror_mode": {
    "name": "ipython",
    "version": 3
   },
   "file_extension": ".py",
   "mimetype": "text/x-python",
   "name": "python",
   "nbconvert_exporter": "python",
   "pygments_lexer": "ipython3",
   "version": "3.11.2"
  }
 },
 "nbformat": 4,
 "nbformat_minor": 5
}
